{
 "cells": [
  {
   "cell_type": "markdown",
   "id": "604a3f3c",
   "metadata": {},
   "source": [
    "Crie uma calculadora simples"
   ]
  },
  {
   "cell_type": "code",
   "execution_count": 1,
   "id": "1de1a0c6",
   "metadata": {},
   "outputs": [],
   "source": [
    "def soma(a, b):\n",
    "    return a + b\n",
    "\n",
    "def subtracao(a, b):\n",
    "    return a - b\n",
    "\n",
    "def multiplicacao(a, b):\n",
    "    return a * b\n",
    "\n",
    "def divisao(a, b):\n",
    "    if b != 0:\n",
    "        return a / b\n",
    "    else:\n",
    "        return \"Não é possível dividir um número por 0.\""
   ]
  },
  {
   "cell_type": "code",
   "execution_count": 12,
   "id": "99c91062",
   "metadata": {},
   "outputs": [
    {
     "name": "stdout",
     "output_type": "stream",
     "text": [
      "\n",
      "Qual operação deseja realizar: (+, -, *, /)\n",
      "\n",
      "*\n",
      "\n",
      "Informe o 1º número: 90\n",
      "Informe o 2º número: 90\n",
      "\n",
      "A multiplicação é:  8100.0\n"
     ]
    }
   ],
   "source": [
    "op = input(\"\\nQual operação deseja realizar: (+, -, *, /)\\n\\n\")\n",
    "\n",
    "x = float(input(\"\\nInforme o 1º número: \"))\n",
    "\n",
    "y = float(input(\"Informe o 2º número: \"))\n",
    "\n",
    "if op == \"+\":\n",
    "    print(\"\\nA soma é: \", soma(x, y))\n",
    "elif op == \"-\":\n",
    "    print(\"\\nA subtração é: \", subtracao(x, y))\n",
    "elif op == \"*\":\n",
    "    print(\"\\nA multiplicação é: \", multiplicacao(x, y))\n",
    "elif op == \"/\":\n",
    "    print(\"\\nA divisão é: \", divisao(x, y))\n",
    "else:\n",
    "    print(\"Operação inválida!\")"
   ]
  },
  {
   "cell_type": "markdown",
   "id": "7091a563",
   "metadata": {},
   "source": [
    "### Fim"
   ]
  }
 ],
 "metadata": {
  "kernelspec": {
   "display_name": "Python 3 (ipykernel)",
   "language": "python",
   "name": "python3"
  },
  "language_info": {
   "codemirror_mode": {
    "name": "ipython",
    "version": 3
   },
   "file_extension": ".py",
   "mimetype": "text/x-python",
   "name": "python",
   "nbconvert_exporter": "python",
   "pygments_lexer": "ipython3",
   "version": "3.10.9"
  }
 },
 "nbformat": 4,
 "nbformat_minor": 5
}
