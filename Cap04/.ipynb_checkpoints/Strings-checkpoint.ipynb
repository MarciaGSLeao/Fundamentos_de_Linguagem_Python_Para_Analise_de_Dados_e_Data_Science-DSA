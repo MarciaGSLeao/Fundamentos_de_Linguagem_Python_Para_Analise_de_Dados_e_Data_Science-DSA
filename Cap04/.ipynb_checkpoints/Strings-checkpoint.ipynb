{
 "cells": [
  {
   "cell_type": "code",
   "execution_count": 1,
   "id": "18063aca",
   "metadata": {},
   "outputs": [
    {
     "name": "stdout",
     "output_type": "stream",
     "text": [
      "Márcia Gameleira\n"
     ]
    }
   ],
   "source": [
    "name = \"Márcia Gameleira\"\n",
    "print(name)"
   ]
  },
  {
   "cell_type": "code",
   "execution_count": 3,
   "id": "863b6f0d",
   "metadata": {},
   "outputs": [
    {
     "data": {
      "text/plain": [
       "'Gameleira'"
      ]
     },
     "execution_count": 3,
     "metadata": {},
     "output_type": "execute_result"
    }
   ],
   "source": [
    "name[7:]"
   ]
  },
  {
   "cell_type": "code",
   "execution_count": 4,
   "id": "f73f4a3a",
   "metadata": {},
   "outputs": [
    {
     "data": {
      "text/plain": [
       "'Már'"
      ]
     },
     "execution_count": 4,
     "metadata": {},
     "output_type": "execute_result"
    }
   ],
   "source": [
    "name[:3]"
   ]
  },
  {
   "cell_type": "code",
   "execution_count": 5,
   "id": "c0e12da8",
   "metadata": {},
   "outputs": [
    {
     "data": {
      "text/plain": [
       "'Mri aeer'"
      ]
     },
     "execution_count": 5,
     "metadata": {},
     "output_type": "execute_result"
    }
   ],
   "source": [
    "name[::2]"
   ]
  },
  {
   "cell_type": "code",
   "execution_count": 7,
   "id": "c17a7b80",
   "metadata": {},
   "outputs": [
    {
     "data": {
      "text/plain": [
       "'arielemaG aicráM'"
      ]
     },
     "execution_count": 7,
     "metadata": {},
     "output_type": "execute_result"
    }
   ],
   "source": [
    "name[::-1]"
   ]
  },
  {
   "cell_type": "code",
   "execution_count": 8,
   "id": "f5653489",
   "metadata": {},
   "outputs": [
    {
     "data": {
      "text/plain": [
       "'MÁRCIA GAMELEIRA'"
      ]
     },
     "execution_count": 8,
     "metadata": {},
     "output_type": "execute_result"
    }
   ],
   "source": [
    "name.upper()"
   ]
  },
  {
   "cell_type": "code",
   "execution_count": 9,
   "id": "31125b66",
   "metadata": {},
   "outputs": [
    {
     "data": {
      "text/plain": [
       "['Márcia', 'Gameleira']"
      ]
     },
     "execution_count": 9,
     "metadata": {},
     "output_type": "execute_result"
    }
   ],
   "source": [
    "name.split()"
   ]
  }
 ],
 "metadata": {
  "kernelspec": {
   "display_name": "Python 3 (ipykernel)",
   "language": "python",
   "name": "python3"
  },
  "language_info": {
   "codemirror_mode": {
    "name": "ipython",
    "version": 3
   },
   "file_extension": ".py",
   "mimetype": "text/x-python",
   "name": "python",
   "nbconvert_exporter": "python",
   "pygments_lexer": "ipython3",
   "version": "3.11.5"
  }
 },
 "nbformat": 4,
 "nbformat_minor": 5
}
