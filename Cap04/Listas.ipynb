{
 "cells": [
  {
   "cell_type": "code",
   "execution_count": 1,
   "id": "5edb4cf1",
   "metadata": {},
   "outputs": [],
   "source": [
    "# Listas Aninhadas\n",
    "pessoas = [[\"Márcia Gameleira\", 33], [\"João Felipe Leão\", 34], [\"Felipe Gameleira\", 8]]"
   ]
  },
  {
   "cell_type": "code",
   "execution_count": 6,
   "id": "c0c5095c",
   "metadata": {},
   "outputs": [
    {
     "name": "stdout",
     "output_type": "stream",
     "text": [
      "[['Márcia Gameleira', 33], ['João Felipe Leão', 34], ['Felipe Gameleira', 8]]\n"
     ]
    }
   ],
   "source": [
    "print(pessoas)"
   ]
  },
  {
   "cell_type": "code",
   "execution_count": 5,
   "id": "1df26bfb",
   "metadata": {},
   "outputs": [
    {
     "name": "stdout",
     "output_type": "stream",
     "text": [
      "['Felipe Gameleira', 8]\n"
     ]
    }
   ],
   "source": [
    "print(pessoas[2])"
   ]
  },
  {
   "cell_type": "markdown",
   "id": "bff1fcb9",
   "metadata": {},
   "source": [
    "#### OPERAÇÕES COM LISTAS"
   ]
  },
  {
   "cell_type": "code",
   "execution_count": 7,
   "id": "5ca5c983",
   "metadata": {},
   "outputs": [
    {
     "name": "stdout",
     "output_type": "stream",
     "text": [
      "[12, 15, 18, 22]\n",
      "[20, 30, 40, 60]\n",
      "[12, 15, 18, 22, 20, 30, 40, 60]\n"
     ]
    }
   ],
   "source": [
    "# Concatenação de Listas\n",
    "lista1 = [12, 15, 18, 22]\n",
    "lista2 = [20, 30, 40, 60]\n",
    "lista3 = lista1 + lista2\n",
    "print(lista1)\n",
    "print(lista2)\n",
    "print(lista3)"
   ]
  },
  {
   "cell_type": "code",
   "execution_count": 8,
   "id": "3a5e3ce8",
   "metadata": {},
   "outputs": [],
   "source": [
    "# append: insere 1 item por vez ao final da lista.\n",
    "# extend: insere + de 1 item por vez ao final da lista.\n",
    "# insert: insere 1 item passando como primeiro parâmetro o índice ao qual se deseja alocar o valor na lista.\n",
    "#         Ex: <variavel>.insert(<índice>, <valor>)"
   ]
  }
 ],
 "metadata": {
  "kernelspec": {
   "display_name": "Python 3 (ipykernel)",
   "language": "python",
   "name": "python3"
  },
  "language_info": {
   "codemirror_mode": {
    "name": "ipython",
    "version": 3
   },
   "file_extension": ".py",
   "mimetype": "text/x-python",
   "name": "python",
   "nbconvert_exporter": "python",
   "pygments_lexer": "ipython3",
   "version": "3.11.5"
  }
 },
 "nbformat": 4,
 "nbformat_minor": 5
}
