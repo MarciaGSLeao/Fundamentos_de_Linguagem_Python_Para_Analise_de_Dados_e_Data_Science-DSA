{
 "cells": [
  {
   "cell_type": "markdown",
   "id": "13145c90",
   "metadata": {},
   "source": [
    "Calcular a área de um paralelograma"
   ]
  },
  {
   "cell_type": "code",
   "execution_count": 1,
   "id": "b6a7a7c4",
   "metadata": {},
   "outputs": [
    {
     "name": "stdout",
     "output_type": "stream",
     "text": [
      "Informe o valor da base do paralelograma: 4\n",
      "Informe o valor da base do paralelograma: 5\n",
      "A área do paralelograma é:  20.0\n"
     ]
    }
   ],
   "source": [
    "b = float(input(\"Informe o valor da base do paralelograma: \"))\n",
    "a = float(input(\"Informe o valor da base do paralelograma: \"))\n",
    "area = b * a\n",
    "print(\"A área do paralelograma é: \", area)"
   ]
  },
  {
   "cell_type": "markdown",
   "id": "541509d6",
   "metadata": {},
   "source": [
    "## Fim"
   ]
  }
 ],
 "metadata": {
  "kernelspec": {
   "display_name": "Python 3 (ipykernel)",
   "language": "python",
   "name": "python3"
  },
  "language_info": {
   "codemirror_mode": {
    "name": "ipython",
    "version": 3
   },
   "file_extension": ".py",
   "mimetype": "text/x-python",
   "name": "python",
   "nbconvert_exporter": "python",
   "pygments_lexer": "ipython3",
   "version": "3.10.9"
  }
 },
 "nbformat": 4,
 "nbformat_minor": 5
}
