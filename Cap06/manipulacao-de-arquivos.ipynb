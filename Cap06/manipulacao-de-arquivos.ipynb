{
 "cells": [
  {
   "cell_type": "markdown",
   "id": "e966135a",
   "metadata": {},
   "source": [
    "### Lendo arquivos"
   ]
  },
  {
   "cell_type": "code",
   "execution_count": 1,
   "id": "d68be6df",
   "metadata": {},
   "outputs": [],
   "source": [
    "# Lendo um arquivo e armazenando em uma variável\n",
    "arq1 = open(\"datasets/arq1.txt\", \"r\")    # \"r\" parâmetro de leitura. Modo read."
   ]
  },
  {
   "cell_type": "code",
   "execution_count": 4,
   "id": "62fb98b1",
   "metadata": {},
   "outputs": [
    {
     "name": "stdout",
     "output_type": "stream",
     "text": [
      "Estudar Ã© o que vai ajudar vocÃª a mudar de vida.\n"
     ]
    }
   ],
   "source": [
    "print(arq1.read())\n",
    "# O código acima equivale a:\n",
    "# print(open(\"datasets/arq1.txt\", \"r\").read())\n",
    "# porém é boa prática atribuir o conteúdo do arquivo a uma variável,"
   ]
  },
  {
   "cell_type": "code",
   "execution_count": 5,
   "id": "c80e9c1f",
   "metadata": {},
   "outputs": [
    {
     "data": {
      "text/plain": [
       "0"
      ]
     },
     "execution_count": 5,
     "metadata": {},
     "output_type": "execute_result"
    }
   ],
   "source": [
    "# Posicionando o cursos no início do arquivo.\n",
    "arq1.seek(0,0)"
   ]
  },
  {
   "cell_type": "markdown",
   "id": "0ad486ef",
   "metadata": {},
   "source": [
    "### Gravando em arquivos"
   ]
  },
  {
   "cell_type": "code",
   "execution_count": 26,
   "id": "b0bbf6b9",
   "metadata": {},
   "outputs": [],
   "source": [
    "arq2 = open(\"datasets/arq2.txt\", \"w\")   # \"w\" parâmetro de escrita. Modo write."
   ]
  },
  {
   "cell_type": "code",
   "execution_count": 27,
   "id": "0bf78053",
   "metadata": {},
   "outputs": [
    {
     "data": {
      "text/plain": [
       "50"
      ]
     },
     "execution_count": 27,
     "metadata": {},
     "output_type": "execute_result"
    }
   ],
   "source": [
    "arq2.write(\"Testando escrita em arquivos com Linguagem Python.\")"
   ]
  },
  {
   "cell_type": "code",
   "execution_count": 28,
   "id": "3efe9d77",
   "metadata": {},
   "outputs": [],
   "source": [
    "arq2.close()"
   ]
  },
  {
   "cell_type": "code",
   "execution_count": 29,
   "id": "cdd5c161",
   "metadata": {},
   "outputs": [],
   "source": [
    "arq2 = open(\"datasets/arq2.txt\", \"r\")"
   ]
  },
  {
   "cell_type": "markdown",
   "id": "7ca3e613",
   "metadata": {},
   "source": [
    "print(arq2.read())"
   ]
  },
  {
   "cell_type": "code",
   "execution_count": 30,
   "id": "cde43775",
   "metadata": {},
   "outputs": [],
   "source": [
    "arq2 = open(\"datasets/arq2.txt\", \"a\")"
   ]
  },
  {
   "cell_type": "code",
   "execution_count": 31,
   "id": "c9becc72",
   "metadata": {},
   "outputs": [
    {
     "data": {
      "text/plain": [
       "38"
      ]
     },
     "execution_count": 31,
     "metadata": {},
     "output_type": "execute_result"
    }
   ],
   "source": [
    "arq2.write(\" Estou estudando Python, Java e COBOL.\")"
   ]
  },
  {
   "cell_type": "code",
   "execution_count": 32,
   "id": "2401add1",
   "metadata": {},
   "outputs": [],
   "source": [
    "arq2 = open(\"datasets/arq2.txt\", \"r\")"
   ]
  },
  {
   "cell_type": "code",
   "execution_count": 33,
   "id": "d3907fb8",
   "metadata": {},
   "outputs": [
    {
     "name": "stdout",
     "output_type": "stream",
     "text": [
      "Testando escrita em arquivos com Linguagem Python. Estou estudando Python, Java e COBOL.\n"
     ]
    }
   ],
   "source": [
    "print(arq2.read())"
   ]
  },
  {
   "cell_type": "code",
   "execution_count": null,
   "id": "39b3026e",
   "metadata": {},
   "outputs": [],
   "source": []
  }
 ],
 "metadata": {
  "kernelspec": {
   "display_name": "Python 3 (ipykernel)",
   "language": "python",
   "name": "python3"
  },
  "language_info": {
   "codemirror_mode": {
    "name": "ipython",
    "version": 3
   },
   "file_extension": ".py",
   "mimetype": "text/x-python",
   "name": "python",
   "nbconvert_exporter": "python",
   "pygments_lexer": "ipython3",
   "version": "3.11.5"
  }
 },
 "nbformat": 4,
 "nbformat_minor": 5
}
