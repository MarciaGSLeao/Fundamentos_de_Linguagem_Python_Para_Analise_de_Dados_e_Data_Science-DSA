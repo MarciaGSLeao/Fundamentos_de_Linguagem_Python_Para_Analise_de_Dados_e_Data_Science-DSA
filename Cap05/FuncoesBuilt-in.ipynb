{
 "cells": [
  {
   "cell_type": "code",
   "execution_count": 2,
   "id": "5aac6694",
   "metadata": {},
   "outputs": [
    {
     "name": "stdout",
     "output_type": "stream",
     "text": [
      "Informe sua idade: 5\n",
      "Você ainda não pode tirar sua CNH.\n"
     ]
    }
   ],
   "source": [
    "# Conversões\n",
    "idade = int(input(\"Informe sua idade: \"))\n",
    "\n",
    "if idade >= 18:\n",
    "    print(\"Você já pode tirar sua CNH.\")\n",
    "else:\n",
    "    print(\"Você ainda não pode tirar sua CNH.\")"
   ]
  },
  {
   "cell_type": "code",
   "execution_count": 3,
   "id": "da1f15b9",
   "metadata": {},
   "outputs": [],
   "source": [
    "# Função dentro de função\n",
    "import math\n",
    "\n",
    "def numPrimo(num):\n",
    "    if (num % 2 == 0) and num > 2:\n",
    "        return \"Este número não é primo.\"\n",
    "    for i in range(3, int(math.sqrt(num)) + 1, 2):\n",
    "        if (num % i) == 0:\n",
    "            return \"Este número não é primo\"\n",
    "    return \"Este número é primo\""
   ]
  },
  {
   "cell_type": "code",
   "execution_count": 4,
   "id": "734def67",
   "metadata": {},
   "outputs": [
    {
     "data": {
      "text/plain": [
       "'Este número é primo'"
      ]
     },
     "execution_count": 4,
     "metadata": {},
     "output_type": "execute_result"
    }
   ],
   "source": [
    "numPrimo(541)"
   ]
  },
  {
   "cell_type": "code",
   "execution_count": null,
   "id": "c5304eb4",
   "metadata": {},
   "outputs": [],
   "source": []
  }
 ],
 "metadata": {
  "kernelspec": {
   "display_name": "Python 3 (ipykernel)",
   "language": "python",
   "name": "python3"
  },
  "language_info": {
   "codemirror_mode": {
    "name": "ipython",
    "version": 3
   },
   "file_extension": ".py",
   "mimetype": "text/x-python",
   "name": "python",
   "nbconvert_exporter": "python",
   "pygments_lexer": "ipython3",
   "version": "3.11.5"
  }
 },
 "nbformat": 4,
 "nbformat_minor": 5
}
