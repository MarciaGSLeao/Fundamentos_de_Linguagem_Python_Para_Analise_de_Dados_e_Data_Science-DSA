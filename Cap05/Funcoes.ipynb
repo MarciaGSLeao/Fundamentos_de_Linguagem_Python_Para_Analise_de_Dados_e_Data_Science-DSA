{
 "cells": [
  {
   "cell_type": "code",
   "execution_count": 1,
   "id": "74f45ac8",
   "metadata": {},
   "outputs": [],
   "source": [
    "# Definindo uma função\n",
    "def primeiraFunc():\n",
    "    print('Hello World!')"
   ]
  },
  {
   "cell_type": "code",
   "execution_count": 3,
   "id": "78326542",
   "metadata": {},
   "outputs": [
    {
     "name": "stdout",
     "output_type": "stream",
     "text": [
      "Hello World!\n"
     ]
    }
   ],
   "source": [
    "# Chamando uma função\n",
    "primeiraFunc()"
   ]
  },
  {
   "cell_type": "code",
   "execution_count": 4,
   "id": "7485da6c",
   "metadata": {},
   "outputs": [],
   "source": [
    "def imprimeNome(nome):\n",
    "    print('Olá %s' %(nome))"
   ]
  },
  {
   "cell_type": "code",
   "execution_count": 5,
   "id": "ce5ea8d5",
   "metadata": {},
   "outputs": [
    {
     "name": "stdout",
     "output_type": "stream",
     "text": [
      "Olá Márcia\n"
     ]
    }
   ],
   "source": [
    "imprimeNome('Márcia')"
   ]
  },
  {
   "cell_type": "code",
   "execution_count": 6,
   "id": "cae68f80",
   "metadata": {},
   "outputs": [],
   "source": [
    "def calcMed(num1, num2):\n",
    "    res = (num1 + num2) / 2\n",
    "    return res"
   ]
  },
  {
   "cell_type": "code",
   "execution_count": 7,
   "id": "7085bc70",
   "metadata": {},
   "outputs": [
    {
     "data": {
      "text/plain": [
       "5.0"
      ]
     },
     "execution_count": 7,
     "metadata": {},
     "output_type": "execute_result"
    }
   ],
   "source": [
    "calcMed(4, 6)"
   ]
  },
  {
   "cell_type": "code",
   "execution_count": 27,
   "id": "a3c3df47",
   "metadata": {},
   "outputs": [],
   "source": [
    "# 1 parâmetro  mais Vartuple\n",
    "def calcMedV2(num, *vartuple):\n",
    "    soma = num\n",
    "    for n in vartuple:\n",
    "        soma += n\n",
    "    return soma / (len(vartuple) + 1)"
   ]
  },
  {
   "cell_type": "code",
   "execution_count": 28,
   "id": "9de9a153",
   "metadata": {},
   "outputs": [
    {
     "data": {
      "text/plain": [
       "3.3333333333333335"
      ]
     },
     "execution_count": 28,
     "metadata": {},
     "output_type": "execute_result"
    }
   ],
   "source": [
    "calcMedV2(2, 5, 3)"
   ]
  },
  {
   "cell_type": "code",
   "execution_count": 29,
   "id": "c49c000f",
   "metadata": {},
   "outputs": [],
   "source": [
    "# Só *Vartuple\n",
    "def calcMedV3(*vartuple):\n",
    "    soma = 0\n",
    "    for n in vartuple:\n",
    "        soma += n\n",
    "    return soma / len(vartuple)"
   ]
  },
  {
   "cell_type": "code",
   "execution_count": 30,
   "id": "d544db94",
   "metadata": {},
   "outputs": [
    {
     "data": {
      "text/plain": [
       "6.0"
      ]
     },
     "execution_count": 30,
     "metadata": {},
     "output_type": "execute_result"
    }
   ],
   "source": [
    "calcMedV3(2, 5, 6, 8, 9)"
   ]
  }
 ],
 "metadata": {
  "kernelspec": {
   "display_name": "Python 3 (ipykernel)",
   "language": "python",
   "name": "python3"
  },
  "language_info": {
   "codemirror_mode": {
    "name": "ipython",
    "version": 3
   },
   "file_extension": ".py",
   "mimetype": "text/x-python",
   "name": "python",
   "nbconvert_exporter": "python",
   "pygments_lexer": "ipython3",
   "version": "3.11.5"
  }
 },
 "nbformat": 4,
 "nbformat_minor": 5
}
