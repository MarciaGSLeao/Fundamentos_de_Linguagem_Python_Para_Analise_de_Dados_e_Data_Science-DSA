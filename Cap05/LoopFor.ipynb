{
 "cells": [
  {
   "cell_type": "code",
   "execution_count": null,
   "id": "2a380f54",
   "metadata": {},
   "outputs": [],
   "source": [
    "nomes = ('João', 'Márcia', 'Felipe')\n",
    "for nome in nomes:\n",
    "    print(nome)"
   ]
  },
  {
   "cell_type": "code",
   "execution_count": null,
   "id": "8909b997",
   "metadata": {},
   "outputs": [],
   "source": [
    "for numero in range(1, 6):\n",
    "    print(numero)"
   ]
  },
  {
   "cell_type": "code",
   "execution_count": null,
   "id": "5767b66f",
   "metadata": {},
   "outputs": [],
   "source": [
    "for numero in range(1,21):\n",
    "    if numero % 2 == 0:\n",
    "        print(numero)"
   ]
  },
  {
   "cell_type": "code",
   "execution_count": null,
   "id": "d3cf2483",
   "metadata": {},
   "outputs": [],
   "source": [
    "for numero in range(0, 1000, 10):\n",
    "    if numero % 3 == 0:\n",
    "        print(numero)"
   ]
  },
  {
   "cell_type": "markdown",
   "id": "e4a4d0ad",
   "metadata": {},
   "source": [
    "#### Loop For Aninhado"
   ]
  },
  {
   "cell_type": "code",
   "execution_count": 10,
   "id": "702d5a61",
   "metadata": {},
   "outputs": [
    {
     "name": "stdout",
     "output_type": "stream",
     "text": [
      "[0, 2, 4, 6, 8]\n",
      "[0, 2, 4, 6, 8]\n",
      "[0, 2, 4, 6, 8]\n",
      "[0, 2, 4, 6, 8]\n",
      "[0, 2, 4, 6, 8]\n"
     ]
    }
   ],
   "source": [
    "l1 = [1,3,5,7,9]\n",
    "l2 = [0,2,4,6,8]\n",
    "\n",
    "for elementoDa1 in l1:\n",
    "    for elementoDa2 in l2:\n",
    "        print(elementoDa2)"
   ]
  },
  {
   "cell_type": "code",
   "execution_count": 9,
   "id": "695f53f3",
   "metadata": {},
   "outputs": [
    {
     "name": "stdout",
     "output_type": "stream",
     "text": [
      "[1, 3, 5, 7, 9, 0, 2, 4, 6, 8]\n"
     ]
    }
   ],
   "source": [
    "# Concatenação de Listas\n",
    "newList = l1 + l2\n",
    "print(newList)"
   ]
  },
  {
   "cell_type": "code",
   "execution_count": 4,
   "id": "11b54b76",
   "metadata": {},
   "outputs": [
    {
     "name": "stdout",
     "output_type": "stream",
     "text": [
      "215\n"
     ]
    }
   ],
   "source": [
    "# Loop em Matriz\n",
    "matriz = [[42, 23, 34],[100, 215, 114],[10.1, 98.7, 12.3]]\n",
    "maior_numero = 0\n",
    "menor_numero = 0\n",
    "\n",
    "for lista in matriz:\n",
    "    for numero in lista:\n",
    "        if numero > maior_numero:\n",
    "            maior_numero = numero\n",
    "            \n",
    "print(maior_numero)"
   ]
  },
  {
   "cell_type": "code",
   "execution_count": 9,
   "id": "f639a27d",
   "metadata": {},
   "outputs": [
    {
     "name": "stdout",
     "output_type": "stream",
     "text": [
      "k1\n",
      "k2\n",
      "k3\n"
     ]
    }
   ],
   "source": [
    "# Listando as chaves de um dicionário\n",
    "dicionario = {'k1': 10, 'k2': 20, 'k3': 30}\n",
    "for item in dicionario:\n",
    "    print(item)"
   ]
  },
  {
   "cell_type": "code",
   "execution_count": 13,
   "id": "19615dd0",
   "metadata": {},
   "outputs": [
    {
     "name": "stdout",
     "output_type": "stream",
     "text": [
      "k1 : 10\n",
      "k2 : 20\n",
      "k3 : 30\n"
     ]
    }
   ],
   "source": [
    "# Listando chave e valor de um dicionário\n",
    "for chave,valor in dicionario.items():\n",
    "    print(chave,':',valor)"
   ]
  }
 ],
 "metadata": {
  "kernelspec": {
   "display_name": "Python 3 (ipykernel)",
   "language": "python",
   "name": "python3"
  },
  "language_info": {
   "codemirror_mode": {
    "name": "ipython",
    "version": 3
   },
   "file_extension": ".py",
   "mimetype": "text/x-python",
   "name": "python",
   "nbconvert_exporter": "python",
   "pygments_lexer": "ipython3",
   "version": "3.11.5"
  }
 },
 "nbformat": 4,
 "nbformat_minor": 5
}
