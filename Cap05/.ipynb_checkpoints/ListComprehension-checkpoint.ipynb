{
 "cells": [
  {
   "cell_type": "markdown",
   "id": "88194c3d",
   "metadata": {},
   "source": [
    "### List Comprehension\n",
    "[expressao for item in interable if condicao == True]"
   ]
  },
  {
   "cell_type": "code",
   "execution_count": 2,
   "id": "f23fa932",
   "metadata": {},
   "outputs": [
    {
     "data": {
      "text/plain": [
       "[0, 1, 2, 3, 4, 5, 6, 7, 8, 9, 10]"
      ]
     },
     "execution_count": 2,
     "metadata": {},
     "output_type": "execute_result"
    }
   ],
   "source": [
    "[numero for numero in range(0, 11)]"
   ]
  },
  {
   "cell_type": "code",
   "execution_count": 3,
   "id": "d6dfe172",
   "metadata": {},
   "outputs": [],
   "source": [
    "lista_pares = [numero for numero in range(0, 101) if numero % 2 == 0]"
   ]
  },
  {
   "cell_type": "code",
   "execution_count": 5,
   "id": "270a0b27",
   "metadata": {},
   "outputs": [
    {
     "name": "stdout",
     "output_type": "stream",
     "text": [
      "[0, 2, 4, 6, 8, 10, 12, 14, 16, 18, 20, 22, 24, 26, 28, 30, 32, 34, 36, 38, 40, 42, 44, 46, 48, 50, 52, 54, 56, 58, 60, 62, 64, 66, 68, 70, 72, 74, 76, 78, 80, 82, 84, 86, 88, 90, 92, 94, 96, 98, 100]\n"
     ]
    }
   ],
   "source": [
    "print(lista_pares)"
   ]
  },
  {
   "cell_type": "markdown",
   "id": "e80a3699",
   "metadata": {},
   "source": [
    "### Dict Comprehension"
   ]
  },
  {
   "cell_type": "code",
   "execution_count": 6,
   "id": "61418eb2",
   "metadata": {},
   "outputs": [],
   "source": [
    "dicio = {'marcia': 33, 'felipe': 8, 'joao': 33}"
   ]
  },
  {
   "cell_type": "code",
   "execution_count": 14,
   "id": "99ac33e2",
   "metadata": {},
   "outputs": [
    {
     "name": "stdout",
     "output_type": "stream",
     "text": [
      "{('marcia', 33), ('joao', 33)}\n"
     ]
    }
   ],
   "source": [
    "maior_18 = {(c,v) for c,v in dicio.items() if v >= 18}\n",
    "print(maior_18)"
   ]
  }
 ],
 "metadata": {
  "kernelspec": {
   "display_name": "Python 3 (ipykernel)",
   "language": "python",
   "name": "python3"
  },
  "language_info": {
   "codemirror_mode": {
    "name": "ipython",
    "version": 3
   },
   "file_extension": ".py",
   "mimetype": "text/x-python",
   "name": "python",
   "nbconvert_exporter": "python",
   "pygments_lexer": "ipython3",
   "version": "3.11.5"
  }
 },
 "nbformat": 4,
 "nbformat_minor": 5
}
