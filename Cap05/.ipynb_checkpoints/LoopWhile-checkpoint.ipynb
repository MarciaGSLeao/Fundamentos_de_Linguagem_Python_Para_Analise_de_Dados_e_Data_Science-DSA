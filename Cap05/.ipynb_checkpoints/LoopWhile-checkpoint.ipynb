{
 "cells": [
  {
   "cell_type": "code",
   "execution_count": null,
   "id": "8d02296f",
   "metadata": {},
   "outputs": [],
   "source": [
    "valor = 1\n",
    "lista = []\n",
    "\n",
    "while valor < 11:\n",
    "    #print(valor)\n",
    "    lista.append(valor)\n",
    "    valor += 1\n",
    "print(lista)"
   ]
  },
  {
   "cell_type": "code",
   "execution_count": null,
   "id": "d42b5939",
   "metadata": {},
   "outputs": [],
   "source": [
    "valor = 3\n",
    "\n",
    "while valor <= 100:\n",
    "    if valor == 33:\n",
    "        print(\"Encontrei tua idade:\", valor)\n",
    "        break\n",
    "    else:\n",
    "        pass\n",
    "        print(valor)\n",
    "        valor = valor + 3"
   ]
  },
  {
   "cell_type": "code",
   "execution_count": null,
   "id": "219d3d1b",
   "metadata": {},
   "outputs": [],
   "source": [
    "# O comando %%time abaixo mede o tempo de execução de uma célula no Jupyter Notebook."
   ]
  },
  {
   "cell_type": "code",
   "execution_count": null,
   "id": "3e8ce7d0",
   "metadata": {},
   "outputs": [],
   "source": [
    "%%time    \n",
    "\n",
    "numerosPrimos = []\n",
    "universoDeAnalise = range(2, 31)\n",
    "\n",
    "for num in universoDeAnalise:\n",
    "    numerosPrimos.append(num)\n",
    "\n",
    "print(numerosPrimos)\n"
   ]
  },
  {
   "cell_type": "code",
   "execution_count": null,
   "id": "ce81e526",
   "metadata": {},
   "outputs": [],
   "source": [
    "listaFrutas = ['Mamão', 'Abacaxi', 'Morango', 'Banana']\n",
    "tamanhoDaLista = len(listaFrutas)\n",
    "\n",
    "for i in range(0, tamanhoDaLista):\n",
    "    print(listaFrutas[i])"
   ]
  }
 ],
 "metadata": {
  "kernelspec": {
   "display_name": "Python 3 (ipykernel)",
   "language": "python",
   "name": "python3"
  },
  "language_info": {
   "codemirror_mode": {
    "name": "ipython",
    "version": 3
   },
   "file_extension": ".py",
   "mimetype": "text/x-python",
   "name": "python",
   "nbconvert_exporter": "python",
   "pygments_lexer": "ipython3",
   "version": "3.11.5"
  }
 },
 "nbformat": 4,
 "nbformat_minor": 5
}
