{
 "cells": [
  {
   "cell_type": "code",
   "execution_count": 1,
   "id": "bc2b79d9",
   "metadata": {},
   "outputs": [
    {
     "name": "stdout",
     "output_type": "stream",
     "text": [
      "********************* Calculadora em Python *********************\n",
      "\n",
      "Selecione o número da operação desejada: \n",
      "\n",
      "1 - Soma\n",
      "2 - Subtração\n",
      "3 - Multiplicação\n",
      "4 - Divisão \n",
      "\n"
     ]
    }
   ],
   "source": [
    "def soma(num1, num2):\n",
    "    return num1 + num2\n",
    "\n",
    "def sub(num1, num2):\n",
    "    return num1 - num2\n",
    "\n",
    "def mult(num1, num2):\n",
    "    return num1 * num2\n",
    "\n",
    "def div(num1, num2):\n",
    "    return num1 / num2\n",
    "\n",
    "print(\"********************* Calculadora em Python *********************\\n\")\n",
    "print('Selecione o número da operação desejada: \\n')\n",
    "print('1 - Soma')\n",
    "print('2 - Subtração')\n",
    "print('3 - Multiplicação')\n",
    "print('4 - Divisão \\n')"
   ]
  },
  {
   "cell_type": "code",
   "execution_count": 2,
   "id": "1662179c",
   "metadata": {},
   "outputs": [
    {
     "name": "stdout",
     "output_type": "stream",
     "text": [
      "Digite sua opção (1/2/3/4):1\n"
     ]
    }
   ],
   "source": [
    "opcao = int(input(\"Digite sua opção (1/2/3/4):\"))"
   ]
  },
  {
   "cell_type": "code",
   "execution_count": 3,
   "id": "82edb15d",
   "metadata": {},
   "outputs": [
    {
     "name": "stdout",
     "output_type": "stream",
     "text": [
      "Digite o primeiro número:22\n",
      "Digite o segundo número:22\n",
      "22 + 22 = 44\n"
     ]
    }
   ],
   "source": [
    "num1 = int(input(\"Digite o primeiro número:\"))\n",
    "num2 = int(input(\"Digite o segundo número:\"))\n",
    "\n",
    "if opcao == 1:\n",
    "    print(num1, \"+\", num2, \"=\", soma(num1, num2))\n",
    "if opcao == 2:\n",
    "    print(num1, \"-\", num2, \"=\", sub(num1, num2))\n",
    "if opcao == 3:\n",
    "    print(num1, \"*\", num2, \"=\", mult(num1, num2))\n",
    "if opcao == 4:\n",
    "    print(num1, \"/\", num2, \"=\", div(num1, num2))"
   ]
  }
 ],
 "metadata": {
  "kernelspec": {
   "display_name": "Python 3 (ipykernel)",
   "language": "python",
   "name": "python3"
  },
  "language_info": {
   "codemirror_mode": {
    "name": "ipython",
    "version": 3
   },
   "file_extension": ".py",
   "mimetype": "text/x-python",
   "name": "python",
   "nbconvert_exporter": "python",
   "pygments_lexer": "ipython3",
   "version": "3.11.5"
  }
 },
 "nbformat": 4,
 "nbformat_minor": 5
}
