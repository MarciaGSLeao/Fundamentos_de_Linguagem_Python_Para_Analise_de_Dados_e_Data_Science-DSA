{
 "cells": [
  {
   "cell_type": "markdown",
   "id": "efacf854",
   "metadata": {},
   "source": [
    "Atributos são propriedades, características do objeto."
   ]
  },
  {
   "cell_type": "markdown",
   "id": "d5ce047b",
   "metadata": {},
   "source": [
    "Métodos são funcionalidades que acionam determinado comportamento que podem ser executados a partir do objeto."
   ]
  },
  {
   "cell_type": "code",
   "execution_count": 2,
   "id": "a485705b",
   "metadata": {},
   "outputs": [],
   "source": [
    "lista = [0, 2, 4]"
   ]
  },
  {
   "cell_type": "code",
   "execution_count": 5,
   "id": "1c4c7d21",
   "metadata": {},
   "outputs": [
    {
     "name": "stdout",
     "output_type": "stream",
     "text": [
      "Help on built-in function count:\n",
      "\n",
      "count(value, /) method of builtins.list instance\n",
      "    Return number of occurrences of value.\n",
      "\n"
     ]
    },
    {
     "data": {
      "text/plain": [
       "1"
      ]
     },
     "execution_count": 5,
     "metadata": {},
     "output_type": "execute_result"
    }
   ],
   "source": [
    "help(lista.count)\n",
    "lista.count(0)"
   ]
  },
  {
   "cell_type": "code",
   "execution_count": 6,
   "id": "7550ca2f",
   "metadata": {},
   "outputs": [
    {
     "data": {
      "text/plain": [
       "['__add__',\n",
       " '__class__',\n",
       " '__class_getitem__',\n",
       " '__contains__',\n",
       " '__delattr__',\n",
       " '__delitem__',\n",
       " '__dir__',\n",
       " '__doc__',\n",
       " '__eq__',\n",
       " '__format__',\n",
       " '__ge__',\n",
       " '__getattribute__',\n",
       " '__getitem__',\n",
       " '__getstate__',\n",
       " '__gt__',\n",
       " '__hash__',\n",
       " '__iadd__',\n",
       " '__imul__',\n",
       " '__init__',\n",
       " '__init_subclass__',\n",
       " '__iter__',\n",
       " '__le__',\n",
       " '__len__',\n",
       " '__lt__',\n",
       " '__mul__',\n",
       " '__ne__',\n",
       " '__new__',\n",
       " '__reduce__',\n",
       " '__reduce_ex__',\n",
       " '__repr__',\n",
       " '__reversed__',\n",
       " '__rmul__',\n",
       " '__setattr__',\n",
       " '__setitem__',\n",
       " '__sizeof__',\n",
       " '__str__',\n",
       " '__subclasshook__',\n",
       " 'append',\n",
       " 'clear',\n",
       " 'copy',\n",
       " 'count',\n",
       " 'extend',\n",
       " 'index',\n",
       " 'insert',\n",
       " 'pop',\n",
       " 'remove',\n",
       " 'reverse',\n",
       " 'sort']"
      ]
     },
     "execution_count": 6,
     "metadata": {},
     "output_type": "execute_result"
    }
   ],
   "source": [
    "dir(lista)"
   ]
  },
  {
   "cell_type": "markdown",
   "id": "fe005170",
   "metadata": {},
   "source": [
    "### Split dos Dados"
   ]
  },
  {
   "cell_type": "code",
   "execution_count": 7,
   "id": "c65c2de2",
   "metadata": {},
   "outputs": [],
   "source": [
    "def split_texto(texto):\n",
    "    return texto.split(\" \")"
   ]
  },
  {
   "cell_type": "code",
   "execution_count": 8,
   "id": "a1298c86",
   "metadata": {},
   "outputs": [],
   "source": [
    "texto = \"Meu filho acabou de me dizer que é um menino feliz.\""
   ]
  },
  {
   "cell_type": "code",
   "execution_count": 9,
   "id": "7dd2bd1b",
   "metadata": {},
   "outputs": [
    {
     "data": {
      "text/plain": [
       "['Meu',\n",
       " 'filho',\n",
       " 'acabou',\n",
       " 'de',\n",
       " 'me',\n",
       " 'dizer',\n",
       " 'que',\n",
       " 'é',\n",
       " 'um',\n",
       " 'menino',\n",
       " 'feliz.']"
      ]
     },
     "execution_count": 9,
     "metadata": {},
     "output_type": "execute_result"
    }
   ],
   "source": [
    "split_texto(texto)"
   ]
  },
  {
   "cell_type": "code",
   "execution_count": 10,
   "id": "ab17bcd5",
   "metadata": {},
   "outputs": [
    {
     "data": {
      "text/plain": [
       "['Meu',\n",
       " 'filho',\n",
       " 'acabou',\n",
       " 'de',\n",
       " 'me',\n",
       " 'dizer',\n",
       " 'que',\n",
       " 'é',\n",
       " 'um',\n",
       " 'menino',\n",
       " 'feliz.']"
      ]
     },
     "execution_count": 10,
     "metadata": {},
     "output_type": "execute_result"
    }
   ],
   "source": [
    "token = split_texto(texto)\n",
    "token"
   ]
  },
  {
   "cell_type": "code",
   "execution_count": 13,
   "id": "dea9811a",
   "metadata": {},
   "outputs": [],
   "source": [
    "def split_string_em_letras(texto):\n",
    "    texto = texto.upper()\n",
    "    for letra in texto:\n",
    "        print(letra)"
   ]
  },
  {
   "cell_type": "code",
   "execution_count": 14,
   "id": "4967b66a",
   "metadata": {},
   "outputs": [
    {
     "name": "stdout",
     "output_type": "stream",
     "text": [
      "M\n",
      "E\n",
      "U\n",
      " \n",
      "F\n",
      "I\n",
      "L\n",
      "H\n",
      "O\n",
      " \n",
      "A\n",
      "C\n",
      "A\n",
      "B\n",
      "O\n",
      "U\n",
      " \n",
      "D\n",
      "E\n",
      " \n",
      "M\n",
      "E\n",
      " \n",
      "D\n",
      "I\n",
      "Z\n",
      "E\n",
      "R\n",
      " \n",
      "Q\n",
      "U\n",
      "E\n",
      " \n",
      "É\n",
      " \n",
      "U\n",
      "M\n",
      " \n",
      "M\n",
      "E\n",
      "N\n",
      "I\n",
      "N\n",
      "O\n",
      " \n",
      "F\n",
      "E\n",
      "L\n",
      "I\n",
      "Z\n",
      ".\n"
     ]
    }
   ],
   "source": [
    "split_string_em_letras(texto)"
   ]
  }
 ],
 "metadata": {
  "kernelspec": {
   "display_name": "Python 3 (ipykernel)",
   "language": "python",
   "name": "python3"
  },
  "language_info": {
   "codemirror_mode": {
    "name": "ipython",
    "version": 3
   },
   "file_extension": ".py",
   "mimetype": "text/x-python",
   "name": "python",
   "nbconvert_exporter": "python",
   "pygments_lexer": "ipython3",
   "version": "3.11.5"
  }
 },
 "nbformat": 4,
 "nbformat_minor": 5
}
