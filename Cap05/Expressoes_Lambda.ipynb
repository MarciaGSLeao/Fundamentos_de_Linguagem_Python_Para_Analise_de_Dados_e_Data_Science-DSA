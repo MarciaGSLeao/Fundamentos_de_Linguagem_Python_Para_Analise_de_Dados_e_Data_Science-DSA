{
 "cells": [
  {
   "cell_type": "code",
   "execution_count": 1,
   "id": "46bb8b66",
   "metadata": {},
   "outputs": [],
   "source": [
    "# Definindo uma função de maneira mais simples e menos verbosa com Expressão Lambda\n",
    "def potenciaQuad(base, expoente): return base**expoente"
   ]
  },
  {
   "cell_type": "code",
   "execution_count": 2,
   "id": "8c935568",
   "metadata": {},
   "outputs": [
    {
     "data": {
      "text/plain": [
       "125"
      ]
     },
     "execution_count": 2,
     "metadata": {},
     "output_type": "execute_result"
    }
   ],
   "source": [
    "potenciaQuad(5, 3)"
   ]
  },
  {
   "cell_type": "code",
   "execution_count": 3,
   "id": "8d01ae4e",
   "metadata": {},
   "outputs": [],
   "source": [
    "primeira = lambda string: string[0]"
   ]
  },
  {
   "cell_type": "code",
   "execution_count": 4,
   "id": "04f490ba",
   "metadata": {},
   "outputs": [
    {
     "data": {
      "text/plain": [
       "'F'"
      ]
     },
     "execution_count": 4,
     "metadata": {},
     "output_type": "execute_result"
    }
   ],
   "source": [
    "primeira(\"Felipe\")"
   ]
  },
  {
   "cell_type": "code",
   "execution_count": 5,
   "id": "05490406",
   "metadata": {},
   "outputs": [],
   "source": [
    "somaNumeros = lambda x, y: x + y"
   ]
  },
  {
   "cell_type": "code",
   "execution_count": 6,
   "id": "7bf91ec9",
   "metadata": {},
   "outputs": [
    {
     "data": {
      "text/plain": [
       "18"
      ]
     },
     "execution_count": 6,
     "metadata": {},
     "output_type": "execute_result"
    }
   ],
   "source": [
    "somaNumeros(9, 9)"
   ]
  }
 ],
 "metadata": {
  "kernelspec": {
   "display_name": "Python 3 (ipykernel)",
   "language": "python",
   "name": "python3"
  },
  "language_info": {
   "codemirror_mode": {
    "name": "ipython",
    "version": 3
   },
   "file_extension": ".py",
   "mimetype": "text/x-python",
   "name": "python",
   "nbconvert_exporter": "python",
   "pygments_lexer": "ipython3",
   "version": "3.11.5"
  }
 },
 "nbformat": 4,
 "nbformat_minor": 5
}
