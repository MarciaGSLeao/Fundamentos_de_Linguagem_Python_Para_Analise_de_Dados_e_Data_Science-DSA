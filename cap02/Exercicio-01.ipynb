{
 "cells": [
  {
   "cell_type": "markdown",
   "id": "615bb37d",
   "metadata": {},
   "source": [
    "Crie uma lista com os números de 1 a 100 que sejam pares e divisíveis por 4."
   ]
  },
  {
   "cell_type": "code",
   "execution_count": 6,
   "id": "68843616",
   "metadata": {},
   "outputs": [
    {
     "name": "stdout",
     "output_type": "stream",
     "text": [
      "Qtd de números: 25\n",
      "Números: [4, 8, 12, 16, 20, 24, 28, 32, 36, 40, 44, 48, 52, 56, 60, 64, 68, 72, 76, 80, 84, 88, 92, 96, 100]\n"
     ]
    }
   ],
   "source": [
    "myNumbers = []\n",
    "\n",
    "for number in list(range(1, 101)):\n",
    "    if number % 4 == 0:\n",
    "        myNumbers.append(number)\n",
    "\n",
    "print(\"Qtd de números:\", len(myNumbers))\n",
    "print(\"Números:\", myNumbers)"
   ]
  },
  {
   "cell_type": "markdown",
   "id": "5d53576e",
   "metadata": {},
   "source": [
    "Agora, usando o conceito de list comprehension."
   ]
  },
  {
   "cell_type": "code",
   "execution_count": 8,
   "id": "894524d8",
   "metadata": {},
   "outputs": [
    {
     "name": "stdout",
     "output_type": "stream",
     "text": [
      "[4, 8, 12, 16, 20, 24, 28, 32, 36, 40, 44, 48, 52, 56, 60, 64, 68, 72, 76, 80, 84, 88, 92, 96, 100]\n"
     ]
    }
   ],
   "source": [
    "divBy4 = [number for number in list(range(1,101)) if number % 4 == 0]\n",
    "\n",
    "print(divBy4)"
   ]
  },
  {
   "cell_type": "markdown",
   "id": "5defb26f",
   "metadata": {},
   "source": [
    "### Fim"
   ]
  }
 ],
 "metadata": {
  "kernelspec": {
   "display_name": "Python 3 (ipykernel)",
   "language": "python",
   "name": "python3"
  },
  "language_info": {
   "codemirror_mode": {
    "name": "ipython",
    "version": 3
   },
   "file_extension": ".py",
   "mimetype": "text/x-python",
   "name": "python",
   "nbconvert_exporter": "python",
   "pygments_lexer": "ipython3",
   "version": "3.10.9"
  }
 },
 "nbformat": 4,
 "nbformat_minor": 5
}
